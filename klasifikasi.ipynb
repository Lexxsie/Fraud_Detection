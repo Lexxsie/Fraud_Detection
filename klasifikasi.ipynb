{
 "cells": [
  {
   "cell_type": "markdown",
   "id": "db900f89",
   "metadata": {},
   "source": [
    "# **1. Import Library**"
   ]
  },
  {
   "cell_type": "code",
   "execution_count": 1,
   "id": "8a45e6d5",
   "metadata": {},
   "outputs": [],
   "source": [
    "import pandas as pd\n",
    "import numpy as np\n",
    "import seaborn as sns\n",
    "import matplotlib.pyplot as plt\n",
    "from sklearn.model_selection import train_test_split\n",
    "from sklearn.neighbors import KNeighborsClassifier\n",
    "from sklearn.tree import DecisionTreeClassifier\n",
    "from sklearn.ensemble import RandomForestClassifier\n",
    "from sklearn.svm import SVC\n",
    "from sklearn.ensemble import RandomForestRegressor\n",
    "from sklearn.metrics import mean_squared_error\n",
    "from sklearn.metrics import confusion_matrix, accuracy_score, precision_score, recall_score, f1_score\n",
    "from sklearn.model_selection import GridSearchCV"
   ]
  },
  {
   "cell_type": "markdown",
   "id": "582a7bc8",
   "metadata": {},
   "source": [
    "# **2. Memuat Dataset dari Hasil Clustering**"
   ]
  },
  {
   "cell_type": "code",
   "execution_count": 2,
   "id": "8574a2e7",
   "metadata": {},
   "outputs": [],
   "source": [
    "df = pd.read_csv(\"data_clustering.csv\")"
   ]
  },
  {
   "cell_type": "code",
   "execution_count": 3,
   "id": "3e9b16e6",
   "metadata": {},
   "outputs": [
    {
     "data": {
      "text/html": [
       "<div>\n",
       "<style scoped>\n",
       "    .dataframe tbody tr th:only-of-type {\n",
       "        vertical-align: middle;\n",
       "    }\n",
       "\n",
       "    .dataframe tbody tr th {\n",
       "        vertical-align: top;\n",
       "    }\n",
       "\n",
       "    .dataframe thead th {\n",
       "        text-align: right;\n",
       "    }\n",
       "</style>\n",
       "<table border=\"1\" class=\"dataframe\">\n",
       "  <thead>\n",
       "    <tr style=\"text-align: right;\">\n",
       "      <th></th>\n",
       "      <th>TransactionAmount</th>\n",
       "      <th>TransactionDate</th>\n",
       "      <th>TransactionType</th>\n",
       "      <th>Location</th>\n",
       "      <th>Channel</th>\n",
       "      <th>CustomerAge</th>\n",
       "      <th>CustomerOccupation</th>\n",
       "      <th>TransactionDuration</th>\n",
       "      <th>LoginAttempts</th>\n",
       "      <th>AccountBalance</th>\n",
       "      <th>PreviousTransactionDate</th>\n",
       "      <th>TransactionAmount_binned</th>\n",
       "      <th>CustomerAge_binned</th>\n",
       "      <th>Target</th>\n",
       "    </tr>\n",
       "  </thead>\n",
       "  <tbody>\n",
       "    <tr>\n",
       "      <th>0</th>\n",
       "      <td>0.007207</td>\n",
       "      <td>0.273642</td>\n",
       "      <td>0.5</td>\n",
       "      <td>0.837209</td>\n",
       "      <td>0.000000</td>\n",
       "      <td>0.838710</td>\n",
       "      <td>0.00</td>\n",
       "      <td>0.244828</td>\n",
       "      <td>0.0</td>\n",
       "      <td>0.336832</td>\n",
       "      <td>0.291667</td>\n",
       "      <td>0</td>\n",
       "      <td>1</td>\n",
       "      <td>2</td>\n",
       "    </tr>\n",
       "    <tr>\n",
       "      <th>1</th>\n",
       "      <td>0.195940</td>\n",
       "      <td>0.474044</td>\n",
       "      <td>0.5</td>\n",
       "      <td>0.348837</td>\n",
       "      <td>0.000000</td>\n",
       "      <td>0.806452</td>\n",
       "      <td>0.00</td>\n",
       "      <td>0.451724</td>\n",
       "      <td>0.0</td>\n",
       "      <td>0.918055</td>\n",
       "      <td>0.533333</td>\n",
       "      <td>0</td>\n",
       "      <td>1</td>\n",
       "      <td>0</td>\n",
       "    </tr>\n",
       "    <tr>\n",
       "      <th>2</th>\n",
       "      <td>0.065680</td>\n",
       "      <td>0.507847</td>\n",
       "      <td>0.5</td>\n",
       "      <td>0.534884</td>\n",
       "      <td>0.666667</td>\n",
       "      <td>0.016129</td>\n",
       "      <td>0.75</td>\n",
       "      <td>0.158621</td>\n",
       "      <td>0.0</td>\n",
       "      <td>0.068637</td>\n",
       "      <td>0.113889</td>\n",
       "      <td>0</td>\n",
       "      <td>2</td>\n",
       "      <td>1</td>\n",
       "    </tr>\n",
       "    <tr>\n",
       "      <th>3</th>\n",
       "      <td>0.096016</td>\n",
       "      <td>0.329175</td>\n",
       "      <td>0.5</td>\n",
       "      <td>0.767442</td>\n",
       "      <td>0.666667</td>\n",
       "      <td>0.129032</td>\n",
       "      <td>0.75</td>\n",
       "      <td>0.051724</td>\n",
       "      <td>0.0</td>\n",
       "      <td>0.569198</td>\n",
       "      <td>0.452778</td>\n",
       "      <td>0</td>\n",
       "      <td>2</td>\n",
       "      <td>0</td>\n",
       "    </tr>\n",
       "    <tr>\n",
       "      <th>4</th>\n",
       "      <td>0.047888</td>\n",
       "      <td>0.255533</td>\n",
       "      <td>0.5</td>\n",
       "      <td>0.651163</td>\n",
       "      <td>0.000000</td>\n",
       "      <td>0.000000</td>\n",
       "      <td>0.75</td>\n",
       "      <td>0.558621</td>\n",
       "      <td>0.0</td>\n",
       "      <td>0.045738</td>\n",
       "      <td>0.036111</td>\n",
       "      <td>0</td>\n",
       "      <td>2</td>\n",
       "      <td>1</td>\n",
       "    </tr>\n",
       "  </tbody>\n",
       "</table>\n",
       "</div>"
      ],
      "text/plain": [
       "   TransactionAmount  TransactionDate  TransactionType  Location   Channel  \\\n",
       "0           0.007207         0.273642              0.5  0.837209  0.000000   \n",
       "1           0.195940         0.474044              0.5  0.348837  0.000000   \n",
       "2           0.065680         0.507847              0.5  0.534884  0.666667   \n",
       "3           0.096016         0.329175              0.5  0.767442  0.666667   \n",
       "4           0.047888         0.255533              0.5  0.651163  0.000000   \n",
       "\n",
       "   CustomerAge  CustomerOccupation  TransactionDuration  LoginAttempts  \\\n",
       "0     0.838710                0.00             0.244828            0.0   \n",
       "1     0.806452                0.00             0.451724            0.0   \n",
       "2     0.016129                0.75             0.158621            0.0   \n",
       "3     0.129032                0.75             0.051724            0.0   \n",
       "4     0.000000                0.75             0.558621            0.0   \n",
       "\n",
       "   AccountBalance  PreviousTransactionDate  TransactionAmount_binned  \\\n",
       "0        0.336832                 0.291667                         0   \n",
       "1        0.918055                 0.533333                         0   \n",
       "2        0.068637                 0.113889                         0   \n",
       "3        0.569198                 0.452778                         0   \n",
       "4        0.045738                 0.036111                         0   \n",
       "\n",
       "   CustomerAge_binned  Target  \n",
       "0                   1       2  \n",
       "1                   1       0  \n",
       "2                   2       1  \n",
       "3                   2       0  \n",
       "4                   2       1  "
      ]
     },
     "execution_count": 3,
     "metadata": {},
     "output_type": "execute_result"
    }
   ],
   "source": [
    "# Tampilkan 5 baris pertama dengan function head.\n",
    "df.head()"
   ]
  },
  {
   "cell_type": "markdown",
   "id": "643da563",
   "metadata": {},
   "source": [
    "# **3. Data Splitting**"
   ]
  },
  {
   "cell_type": "code",
   "execution_count": 4,
   "id": "6a3d2295",
   "metadata": {},
   "outputs": [
    {
     "name": "stdout",
     "output_type": "stream",
     "text": [
      "Training set shape: X_train=(1833, 13), y_train=(1833,)\n",
      "Test set shape: x_test=(1833, 13), y_test(459,)\n"
     ]
    }
   ],
   "source": [
    "# Menggunakan df_test_split() untuk melakukan pembagian dfset.\n",
    "# pisahkan fitur (x) dan target (y)\n",
    "\n",
    "# pisahkan fitur (x) dan target (y)\n",
    "X = df.drop(columns=['Target'])\n",
    "y = df['Target']\n",
    "\n",
    "# split df menjadi set pelatihan dan uji\n",
    "X_train, x_test, y_train, y_test = train_test_split(X, y, test_size=0.2, random_state=42)\n",
    "\n",
    "# tampilkan bentuk set pelatihan dan set uji untuk memastikan split\n",
    "print(f\"Training set shape: X_train={X_train.shape}, y_train={y_train.shape}\")\n",
    "print(f\"Test set shape: x_test={X_train.shape}, y_test{y_test.shape}\")"
   ]
  },
  {
   "cell_type": "markdown",
   "id": "aa049ee5",
   "metadata": {},
   "source": [
    "# **4. Membangun Model Klasifikasi**"
   ]
  },
  {
   "cell_type": "code",
   "execution_count": 7,
   "id": "ddaab5d1",
   "metadata": {},
   "outputs": [],
   "source": [
    "dt = DecisionTreeClassifier().fit(X_train, y_train)\n",
    "rf = RandomForestClassifier().fit(X_train, y_train)\n",
    "svm = SVC().fit(X_train, y_train)\n"
   ]
  },
  {
   "cell_type": "code",
   "execution_count": 8,
   "metadata": {},
   "outputs": [
    {
     "name": "stdout",
     "output_type": "stream",
     "text": [
      "                          Model  Accuracy  Precision    Recall  F1-Score\n",
      "0            Decision Tree (DT)  0.980392   0.980501  0.980392  0.980424\n",
      "1            Random Forest (RF)  0.984749   0.984901  0.984749  0.984758\n",
      "2  Support Vector Machine (SVM)  0.934641   0.938459  0.934641  0.934216\n"
     ]
    }
   ],
   "source": [
    "# Buatlah model klasifikasi menggunakan Decision Tree\n",
    "# fungsi untuk mengevaluasi dan mengembalikan hasil kamus\n",
    "def evaluate_model(model, x_test, y_test):\n",
    "    y_pred = model.predict(x_test)\n",
    "    cm = confusion_matrix(y_test, y_pred)\n",
    "    result = {\n",
    "        'Confusion Matrix': cm,\n",
    "        'Accuracy': accuracy_score(y_test, y_pred),\n",
    "        'Precision': precision_score(y_test, y_pred, average='weighted'),\n",
    "        'Recall': recall_score(y_test, y_pred, average='weighted'),\n",
    "        'F1-Score': f1_score(y_test, y_pred, average='weighted')\n",
    "    }\n",
    "    return result\n",
    "# Mengevaluasi setiap model dan mengumpukan hasilnya\n",
    "results = {\n",
    "    'Decision Tree (DT)': evaluate_model(dt, x_test, y_test),\n",
    "    'Random Forest (RF)': evaluate_model(rf, x_test, y_test),\n",
    "    'Support Vector Machine (SVM)': evaluate_model(svm, x_test, y_test)\n",
    "}\n",
    "\n",
    "# Buat DataFrame untuk meringkas hasil\n",
    "summary_df = pd.DataFrame(columns=['Model', 'Accuracy', 'Precision', 'Recall', 'F1-Score'])\n",
    "\n",
    "# isi DataFrame dengan hasil\n",
    "rows = []\n",
    "for model_name, metrics in results.items():\n",
    "    rows.append({\n",
    "        'Model': model_name,\n",
    "        'Accuracy': metrics['Accuracy'],\n",
    "        'Precision': metrics['Precision'],\n",
    "        'Recall': metrics['Recall'],\n",
    "        'F1-Score': metrics['F1-Score']\n",
    "    })\n",
    "\n",
    "# konversi daftar kaus ke DataFrame\n",
    "summary_df = pd.DataFrame(rows)\n",
    "\n",
    "# tampilkan DatFrame\n",
    "print(summary_df)"
   ]
  },
  {
   "cell_type": "code",
   "execution_count": 9,
   "id": "f2bf76f2",
   "metadata": {},
   "outputs": [
    {
     "data": {
      "text/plain": [
       "['RandomForest_classification.h5']"
      ]
     },
     "execution_count": 9,
     "metadata": {},
     "output_type": "execute_result"
    }
   ],
   "source": [
    "import joblib\n",
    "# Simpan model terbaik\n",
    "joblib.dump(rf, 'RandomForest_classification.h5')"
   ]
  },
  {
   "cell_type": "code",
   "execution_count": null,
   "id": "4315ba1f",
   "metadata": {},
   "outputs": [],
   "source": []
  },
  {
   "cell_type": "code",
   "execution_count": null,
   "id": "a438f4e8",
   "metadata": {},
   "outputs": [],
   "source": []
  },
  {
   "cell_type": "code",
   "execution_count": null,
   "metadata": {},
   "outputs": [],
   "source": []
  },
  {
   "cell_type": "code",
   "execution_count": null,
   "id": "38bfcd73",
   "metadata": {},
   "outputs": [],
   "source": []
  },
  {
   "cell_type": "code",
   "execution_count": null,
   "id": "fbec02e1",
   "metadata": {},
   "outputs": [],
   "source": []
  },
  {
   "cell_type": "code",
   "execution_count": null,
   "id": "0e484298",
   "metadata": {},
   "outputs": [],
   "source": []
  },
  {
   "cell_type": "code",
   "execution_count": null,
   "id": "d4c3d0eb",
   "metadata": {},
   "outputs": [],
   "source": []
  },
  {
   "cell_type": "code",
   "execution_count": null,
   "id": "84dee269",
   "metadata": {},
   "outputs": [],
   "source": []
  },
  {
   "cell_type": "code",
   "execution_count": null,
   "id": "ceab4b5b",
   "metadata": {},
   "outputs": [],
   "source": []
  },
  {
   "cell_type": "code",
   "execution_count": null,
   "id": "bbe85502",
   "metadata": {},
   "outputs": [],
   "source": []
  },
  {
   "cell_type": "code",
   "execution_count": null,
   "id": "2f53682e",
   "metadata": {},
   "outputs": [],
   "source": []
  },
  {
   "cell_type": "code",
   "execution_count": null,
   "id": "b17a1608",
   "metadata": {},
   "outputs": [],
   "source": []
  }
 ],
 "metadata": {
  "kernelspec": {
   "display_name": "Python (py310)",
   "language": "python",
   "name": "py310"
  },
  "language_info": {
   "codemirror_mode": {
    "name": "ipython",
    "version": 3
   },
   "file_extension": ".py",
   "mimetype": "text/x-python",
   "name": "python",
   "nbconvert_exporter": "python",
   "pygments_lexer": "ipython3",
   "version": "3.10.19"
  }
 },
 "nbformat": 4,
 "nbformat_minor": 5
}
